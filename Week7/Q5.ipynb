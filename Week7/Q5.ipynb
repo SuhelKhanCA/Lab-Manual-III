{
 "cells": [
  {
   "cell_type": "code",
   "execution_count": 1,
   "id": "74e130cf-0db9-413b-b642-f3167563cd2b",
   "metadata": {},
   "outputs": [],
   "source": [
    "import pandas as pd"
   ]
  },
  {
   "cell_type": "code",
   "execution_count": 4,
   "id": "1421937a-2180-45f6-a514-344a2e53ac7a",
   "metadata": {},
   "outputs": [],
   "source": [
    "employees_df = pd.read_csv('salary.csv')\n",
    "departments_df = pd.read_csv('department.csv')"
   ]
  },
  {
   "cell_type": "code",
   "execution_count": 7,
   "id": "be79639c-e9dd-4ff3-acfe-7e041573ef65",
   "metadata": {},
   "outputs": [
    {
     "data": {
      "text/html": [
       "<div>\n",
       "<style scoped>\n",
       "    .dataframe tbody tr th:only-of-type {\n",
       "        vertical-align: middle;\n",
       "    }\n",
       "\n",
       "    .dataframe tbody tr th {\n",
       "        vertical-align: top;\n",
       "    }\n",
       "\n",
       "    .dataframe thead th {\n",
       "        text-align: right;\n",
       "    }\n",
       "</style>\n",
       "<table border=\"1\" class=\"dataframe\">\n",
       "  <thead>\n",
       "    <tr style=\"text-align: right;\">\n",
       "      <th></th>\n",
       "      <th>Name</th>\n",
       "      <th>EId</th>\n",
       "      <th>Salary</th>\n",
       "      <th>DID</th>\n",
       "      <th>DName</th>\n",
       "      <th>DLocation</th>\n",
       "    </tr>\n",
       "  </thead>\n",
       "  <tbody>\n",
       "    <tr>\n",
       "      <th>0</th>\n",
       "      <td>Alice</td>\n",
       "      <td>1</td>\n",
       "      <td>70000</td>\n",
       "      <td>1</td>\n",
       "      <td>HR</td>\n",
       "      <td>Building A</td>\n",
       "    </tr>\n",
       "    <tr>\n",
       "      <th>1</th>\n",
       "      <td>Bob</td>\n",
       "      <td>2</td>\n",
       "      <td>60000</td>\n",
       "      <td>1</td>\n",
       "      <td>HR</td>\n",
       "      <td>Building A</td>\n",
       "    </tr>\n",
       "    <tr>\n",
       "      <th>2</th>\n",
       "      <td>Charlie</td>\n",
       "      <td>3</td>\n",
       "      <td>50000</td>\n",
       "      <td>2</td>\n",
       "      <td>IT</td>\n",
       "      <td>Building B</td>\n",
       "    </tr>\n",
       "    <tr>\n",
       "      <th>3</th>\n",
       "      <td>David</td>\n",
       "      <td>4</td>\n",
       "      <td>80000</td>\n",
       "      <td>2</td>\n",
       "      <td>IT</td>\n",
       "      <td>Building B</td>\n",
       "    </tr>\n",
       "    <tr>\n",
       "      <th>4</th>\n",
       "      <td>Eva</td>\n",
       "      <td>5</td>\n",
       "      <td>90000</td>\n",
       "      <td>3</td>\n",
       "      <td>Finance</td>\n",
       "      <td>Building C</td>\n",
       "    </tr>\n",
       "  </tbody>\n",
       "</table>\n",
       "</div>"
      ],
      "text/plain": [
       "      Name  EId  Salary  DID    DName   DLocation\n",
       "0    Alice    1   70000    1       HR  Building A\n",
       "1      Bob    2   60000    1       HR  Building A\n",
       "2  Charlie    3   50000    2       IT  Building B\n",
       "3    David    4   80000    2       IT  Building B\n",
       "4      Eva    5   90000    3  Finance  Building C"
      ]
     },
     "execution_count": 7,
     "metadata": {},
     "output_type": "execute_result"
    }
   ],
   "source": [
    "merged_df = pd.merge(employees_df, departments_df, on='DID')\n",
    "merged_df"
   ]
  },
  {
   "cell_type": "code",
   "execution_count": 13,
   "id": "c6749b04-197a-4934-9935-137a24e1aa1b",
   "metadata": {},
   "outputs": [],
   "source": [
    "average_salaries = merged_df.groupby('DName')['Salary'].mean().reset_index()"
   ]
  },
  {
   "cell_type": "code",
   "execution_count": 14,
   "id": "ee3fdf72-6a10-4fcc-837e-c12fd178409c",
   "metadata": {},
   "outputs": [
    {
     "data": {
      "text/html": [
       "<div>\n",
       "<style scoped>\n",
       "    .dataframe tbody tr th:only-of-type {\n",
       "        vertical-align: middle;\n",
       "    }\n",
       "\n",
       "    .dataframe tbody tr th {\n",
       "        vertical-align: top;\n",
       "    }\n",
       "\n",
       "    .dataframe thead th {\n",
       "        text-align: right;\n",
       "    }\n",
       "</style>\n",
       "<table border=\"1\" class=\"dataframe\">\n",
       "  <thead>\n",
       "    <tr style=\"text-align: right;\">\n",
       "      <th></th>\n",
       "      <th>Department</th>\n",
       "      <th>Average Salary</th>\n",
       "    </tr>\n",
       "  </thead>\n",
       "  <tbody>\n",
       "    <tr>\n",
       "      <th>0</th>\n",
       "      <td>Finance</td>\n",
       "      <td>90000.0</td>\n",
       "    </tr>\n",
       "    <tr>\n",
       "      <th>1</th>\n",
       "      <td>HR</td>\n",
       "      <td>65000.0</td>\n",
       "    </tr>\n",
       "    <tr>\n",
       "      <th>2</th>\n",
       "      <td>IT</td>\n",
       "      <td>65000.0</td>\n",
       "    </tr>\n",
       "  </tbody>\n",
       "</table>\n",
       "</div>"
      ],
      "text/plain": [
       "  Department  Average Salary\n",
       "0    Finance         90000.0\n",
       "1         HR         65000.0\n",
       "2         IT         65000.0"
      ]
     },
     "execution_count": 14,
     "metadata": {},
     "output_type": "execute_result"
    }
   ],
   "source": [
    "average_salaries.columns = ['Department', 'Average Salary']\n",
    "average_salaries"
   ]
  },
  {
   "cell_type": "code",
   "execution_count": 15,
   "id": "f5ca36df-4ef9-435b-8f75-84be65e008fe",
   "metadata": {},
   "outputs": [
    {
     "name": "stdout",
     "output_type": "stream",
     "text": [
      "  Department  Average Salary\n",
      "0    Finance         90000.0\n",
      "1         HR         65000.0\n",
      "2         IT         65000.0\n"
     ]
    }
   ],
   "source": [
    "print(average_salaries)"
   ]
  },
  {
   "cell_type": "code",
   "execution_count": null,
   "id": "0e053e7e-e602-4b4a-9baa-e6b39eec03e5",
   "metadata": {},
   "outputs": [],
   "source": []
  }
 ],
 "metadata": {
  "kernelspec": {
   "display_name": "Python 3 (ipykernel)",
   "language": "python",
   "name": "python3"
  },
  "language_info": {
   "codemirror_mode": {
    "name": "ipython",
    "version": 3
   },
   "file_extension": ".py",
   "mimetype": "text/x-python",
   "name": "python",
   "nbconvert_exporter": "python",
   "pygments_lexer": "ipython3",
   "version": "3.12.6"
  }
 },
 "nbformat": 4,
 "nbformat_minor": 5
}
